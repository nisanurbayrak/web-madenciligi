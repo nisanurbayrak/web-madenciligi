{
 "cells": [
  {
   "cell_type": "code",
   "execution_count": 33,
   "id": "initial_id",
   "metadata": {
    "collapsed": true,
    "ExecuteTime": {
     "end_time": "2023-10-28T23:24:06.178770100Z",
     "start_time": "2023-10-28T23:24:05.939389400Z"
    }
   },
   "outputs": [],
   "source": [
    "from urllib.request import urlopen\n",
    "from bs4 import BeautifulSoup\n",
    "html = urlopen('https://raw.githubusercontent.com/nisanurbayrak/web-madenciligi/main/web-madenciligi-oedv/index.html')\n",
    "bs = BeautifulSoup(html.read(), 'html.parser')"
   ]
  },
  {
   "cell_type": "code",
   "execution_count": 37,
   "outputs": [
    {
     "name": "stdout",
     "output_type": "stream",
     "text": [
      "it is worked\n"
     ]
    }
   ],
   "source": [
    "from urllib.error import HTTPError\n",
    "from urllib.error import URLError\n",
    "try:html = urlopen('https://raw.githubusercontent.com/nisanurbayrak/web-madenciligi/main/web-madenciligi-oedv/index.html')\n",
    "except HTTPError as e: print(e)\n",
    "except URLError as e:\n",
    "    print(\"this server can not be found\")\n",
    "else: print(\"it is worked\")\n"
   ],
   "metadata": {
    "collapsed": false,
    "ExecuteTime": {
     "end_time": "2023-10-28T23:32:25.288490400Z",
     "start_time": "2023-10-28T23:32:08.637569600Z"
    }
   },
   "id": "b1e462468009ced5"
  },
  {
   "cell_type": "code",
   "execution_count": 8,
   "outputs": [
    {
     "data": {
      "text/plain": "5"
     },
     "execution_count": 8,
     "metadata": {},
     "output_type": "execute_result"
    }
   ],
   "source": [
    "table = bs.body.find('table')\n",
    "productCount = table.findAll('tr')\n",
    "len(productCount)-1"
   ],
   "metadata": {
    "collapsed": false,
    "ExecuteTime": {
     "end_time": "2023-10-28T23:16:16.732640300Z",
     "start_time": "2023-10-28T23:16:16.718410700Z"
    }
   },
   "id": "63c1168edee41ad0"
  },
  {
   "cell_type": "code",
   "execution_count": 26,
   "outputs": [
    {
     "name": "stdout",
     "output_type": "stream",
     "text": [
      "urun adi: laptop\n",
      "urun aciklama: \n",
      "\r\n",
      "            Lorem ipsum dolor sit amet, consectetur adipiscing elit. Aliquam\r\n",
      "            sagittis ante justo, a molestie tortor.\r\n",
      "          \n",
      "\n",
      "urun fiyat: $799\n"
     ]
    }
   ],
   "source": [
    "urunAdi = productCount[-1].findAll('td')[0].getText()\n",
    "print(\"urun adi: \"+urunAdi)\n",
    "urunAciklama = productCount[-1].findAll('td')[1].getText()\n",
    "print(\"urun aciklama: \"+urunAciklama)\n",
    "urunFiyat = productCount[-1].findAll('td')[2].getText()\n",
    "print(\"urun fiyat: \"+urunFiyat)"
   ],
   "metadata": {
    "collapsed": false,
    "ExecuteTime": {
     "end_time": "2023-10-28T23:22:02.904551Z",
     "start_time": "2023-10-28T23:22:02.897049300Z"
    }
   },
   "id": "673161d0cebfd278"
  }
 ],
 "metadata": {
  "kernelspec": {
   "display_name": "Python 3",
   "language": "python",
   "name": "python3"
  },
  "language_info": {
   "codemirror_mode": {
    "name": "ipython",
    "version": 2
   },
   "file_extension": ".py",
   "mimetype": "text/x-python",
   "name": "python",
   "nbconvert_exporter": "python",
   "pygments_lexer": "ipython2",
   "version": "2.7.6"
  }
 },
 "nbformat": 4,
 "nbformat_minor": 5
}
