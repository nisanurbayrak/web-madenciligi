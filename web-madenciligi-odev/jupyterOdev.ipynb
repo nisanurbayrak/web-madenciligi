{
 "cells": [
  {
   "cell_type": "code",
   "execution_count": 4,
   "id": "initial_id",
   "metadata": {
    "collapsed": true,
    "ExecuteTime": {
     "end_time": "2023-10-28T23:26:50.943389300Z",
     "start_time": "2023-10-28T23:26:50.658346200Z"
    }
   },
   "outputs": [],
   "source": [
    "from urllib.request import urlopen\n",
    "from bs4 import BeautifulSoup\n",
    "html = urlopen('https://raw.githubusercontent.com/yasinerduran/WebMining/main/products.html')\n",
    "bs = BeautifulSoup(html.read(), 'html.parser')"
   ]
  },
  {
   "cell_type": "code",
   "execution_count": 11,
   "outputs": [
    {
     "data": {
      "text/plain": "4"
     },
     "execution_count": 11,
     "metadata": {},
     "output_type": "execute_result"
    }
   ],
   "source": [
    "table = bs.body.find('table',{'id':'productList'})\n",
    "productCount = table.findAll('tr')\n",
    "len(productCount)-1"
   ],
   "metadata": {
    "collapsed": false,
    "ExecuteTime": {
     "end_time": "2023-10-28T23:29:03.609873700Z",
     "start_time": "2023-10-28T23:29:03.600833200Z"
    }
   },
   "id": "a25ca9068acbfc9e"
  },
  {
   "cell_type": "code",
   "execution_count": 27,
   "outputs": [
    {
     "name": "stdout",
     "output_type": "stream",
     "text": [
      "urunid:\n",
      "        4\n",
      "      \n",
      "urun adi:\n",
      "        Snikırs\n",
      "      \n",
      "urun tanim:\n",
      "        Yer fıstıklı Çikolata\n",
      "      \n",
      "urun fiyat:\n",
      "        8TL\n",
      "      \n"
     ]
    }
   ],
   "source": [
    "urunid = productCount[-1].findAll('td')[0].getText()\n",
    "print(\"urunid:\"+urunid)\n",
    "urunAd = productCount[-1].findAll('td')[1].getText()\n",
    "print(\"urun adi:\"+urunAd)\n",
    "urunTanim = productCount[-1].findAll('td')[2].getText()\n",
    "print(\"urun tanim:\"+urunTanim)\n",
    "urunFiyat = productCount[-1].findAll('td')[3].getText()\n",
    "print(\"urun fiyat:\"+urunFiyat)\n",
    "\n"
   ],
   "metadata": {
    "collapsed": false,
    "ExecuteTime": {
     "end_time": "2023-10-28T23:32:01.463938100Z",
     "start_time": "2023-10-28T23:32:01.455521700Z"
    }
   },
   "id": "c0f93bfbde6c269b"
  },
  {
   "cell_type": "code",
   "execution_count": null,
   "outputs": [],
   "source": [],
   "metadata": {
    "collapsed": false
   },
   "id": "b6528f52e680492c"
  }
 ],
 "metadata": {
  "kernelspec": {
   "display_name": "Python 3",
   "language": "python",
   "name": "python3"
  },
  "language_info": {
   "codemirror_mode": {
    "name": "ipython",
    "version": 2
   },
   "file_extension": ".py",
   "mimetype": "text/x-python",
   "name": "python",
   "nbconvert_exporter": "python",
   "pygments_lexer": "ipython2",
   "version": "2.7.6"
  }
 },
 "nbformat": 4,
 "nbformat_minor": 5
}
